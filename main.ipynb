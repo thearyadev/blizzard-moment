{
 "cells": [
  {
   "cell_type": "code",
   "execution_count": 9,
   "metadata": {},
   "outputs": [
    {
     "name": "stdout",
     "output_type": "stream",
     "text": [
      "cuda\n",
      "epoch # 0\n",
      "Epoch 1: Validation Loss: 0.0052, Accuracy: 1.00\n",
      "epoch # 1\n",
      "Epoch 2: Validation Loss: 0.0028, Accuracy: 1.00\n",
      "epoch # 2\n",
      "Epoch 3: Validation Loss: 0.0018, Accuracy: 1.00\n",
      "epoch # 3\n",
      "Epoch 4: Validation Loss: 0.0012, Accuracy: 1.00\n",
      "epoch # 4\n",
      "Epoch 5: Validation Loss: 0.0009, Accuracy: 1.00\n",
      "epoch # 5\n",
      "Epoch 6: Validation Loss: 0.0007, Accuracy: 1.00\n",
      "epoch # 6\n",
      "Epoch 7: Validation Loss: 0.0005, Accuracy: 1.00\n",
      "epoch # 7\n",
      "Epoch 8: Validation Loss: 0.0004, Accuracy: 1.00\n",
      "epoch # 8\n",
      "Epoch 9: Validation Loss: 0.0003, Accuracy: 1.00\n",
      "epoch # 9\n",
      "Epoch 10: Validation Loss: 0.0003, Accuracy: 1.00\n"
     ]
    }
   ],
   "source": [
    "import torch\n",
    "import torchvision\n",
    "import torchvision.transforms as transforms\n",
    "import torch.nn as nn\n",
    "import torch.nn.functional as F\n",
    "\n",
    "transform = transforms.Compose([\n",
    "    transforms.ToTensor(),\n",
    "    transforms.Normalize(mean=[0.485, 0.456, 0.406], std=[0.229, 0.224, 0.225]) \n",
    "])\n",
    "\n",
    "dataset = torchvision.datasets.ImageFolder(root=\"dataset\", transform=transform)\n",
    "dataloader = torch.utils.data.DataLoader(dataset, batch_size=32, shuffle=True)\n",
    "test_dataset = torchvision.datasets.ImageFolder(root=\"dataset\", transform=transform)\n",
    "test_dataloader = torch.utils.data.DataLoader(test_dataset, batch_size=32)\n",
    "class ImageClassifier(nn.Module):\n",
    "    def __init__(self, num_classes):\n",
    "        super(ImageClassifier, self).__init__()\n",
    "        self.conv1 = nn.Conv2d(3, 6, 5)\n",
    "        self.pool = nn.MaxPool2d(2, 2)\n",
    "        self.conv2 = nn.Conv2d(6, 16, 5)\n",
    "        # ... (Add more conv layers if needed)\n",
    "        self.fc1 = nn.Linear(16 * 8 * 22, 120)  # Update the input size\n",
    "        self.fc2 = nn.Linear(120, 84)\n",
    "        self.fc3 = nn.Linear(84, num_classes)\n",
    "\n",
    "    def forward(self, x):\n",
    "        x = self.pool(F.relu(self.conv1(x)))\n",
    "        x = self.pool(F.relu(self.conv2(x)))\n",
    "\n",
    "        x = x.view(-1, 16 * 8 * 22)  \n",
    "        x = F.relu(self.fc1(x))\n",
    "        x = F.relu(self.fc2(x))\n",
    "        x = self.fc3(x)\n",
    "        return x\n",
    "\n",
    "    \n",
    "device = torch.device(\"cuda\" if torch.cuda.is_available() else \"cpu\")\n",
    "print(device)\n",
    "model = ImageClassifier(num_classes=len(dataset.classes)).to(device)\n",
    "optimizer = torch.optim.Adam(model.parameters(), lr=0.001)\n",
    "loss_fn = nn.CrossEntropyLoss()\n",
    "\n",
    "\n",
    "\n",
    "for epoch in range(10):\n",
    "    model.train()\n",
    "    print(f\"epoch # {epoch}\")\n",
    "    for images, labels in dataloader:\n",
    "        images, labels = images.to(device), labels.to(device)\n",
    "        optimizer.zero_grad()\n",
    "\n",
    "        outputs = model(images)\n",
    "        loss = loss_fn(outputs, labels)\n",
    "        loss.backward()\n",
    "        optimizer.step()\n",
    "\n",
    "    model.eval()\n",
    "    val_loss = 0\n",
    "    correct = 0\n",
    "    with torch.no_grad():\n",
    "        for images, labels in test_dataloader:\n",
    "            outputs = model(images.to(device))\n",
    "            val_loss += loss_fn(outputs, labels.to(device)).item()\n",
    "            _, predicted = torch.max(outputs.data, 1)\n",
    "            correct += (predicted == labels.to(device)).sum().item()\n",
    "    val_accuracy  = correct / len(test_dataset)\n",
    "    print(f\"Epoch {epoch+1}: Validation Loss: {val_loss:.4f}, Accuracy: {val_accuracy:.2f}\")\n",
    "\n"
   ]
  },
  {
   "cell_type": "code",
   "execution_count": 10,
   "metadata": {},
   "outputs": [
    {
     "name": "stdout",
     "output_type": "stream",
     "text": [
      "Predicted Class Kiriko\n"
     ]
    }
   ],
   "source": [
    "model.eval()\n",
    "from PIL import Image\n",
    "with torch.no_grad():\n",
    "    img = Image.open(r\"./Kiriko.png\")\n",
    "    img = transform(img).unsqueeze(0).to(device)\n",
    "    output = model(img)\n",
    "\n",
    "pred = torch.argmax(output, dim=1).item()\n",
    "print(f\"Predicted Class {dataset.classes[pred]}\")"
   ]
  }
 ],
 "metadata": {
  "kernelspec": {
   "display_name": "blizzard-moment-m7dR4OHO-py3.10",
   "language": "python",
   "name": "python3"
  },
  "language_info": {
   "codemirror_mode": {
    "name": "ipython",
    "version": 3
   },
   "file_extension": ".py",
   "mimetype": "text/x-python",
   "name": "python",
   "nbconvert_exporter": "python",
   "pygments_lexer": "ipython3",
   "version": "3.10.0"
  }
 },
 "nbformat": 4,
 "nbformat_minor": 2
}
